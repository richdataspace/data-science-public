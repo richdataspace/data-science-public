{
 "cells": [
  {
   "cell_type": "markdown",
   "metadata": {},
   "source": [
    "## PREVENDO O PREÇO DE PRODUTOS COMBUSTIVEIS NO PARANA"
   ]
  },
  {
   "cell_type": "code",
   "execution_count": 1,
   "metadata": {
    "scrolled": true
   },
   "outputs": [
    {
     "name": "stderr",
     "output_type": "stream",
     "text": [
      "Importing plotly failed. Interactive plots will not work.\n"
     ]
    }
   ],
   "source": [
    "# Aqui importamos as bibliotecas que faremos uso\n",
    "import pandas as pd\n",
    "import matplotlib.pyplot as plt\n",
    "import seaborn as sns\n",
    "\n",
    "from darts import TimeSeries\n",
    "from darts.models import (\n",
    "    FFT,\n",
    "    AutoARIMA,\n",
    "    ExponentialSmoothing,\n",
    "    Prophet,\n",
    "    Theta\n",
    ")\n",
    "from darts.metrics import mape\n",
    "from darts.utils.missing_values import auto_fillna\n",
    "from darts.models.forecasting_model import ForecastingModel\n",
    "\n",
    "import warnings\n",
    "warnings.filterwarnings(\"ignore\")\n",
    "import logging\n",
    "logging.disable(logging.CRITICAL)"
   ]
  },
  {
   "cell_type": "markdown",
   "metadata": {},
   "source": [
    "Você pode encontrar o data-set desse projeto em:\n",
    "https://www.kaggle.com/matheusfreitag/gas-prices-in-brazil"
   ]
  },
  {
   "cell_type": "code",
   "execution_count": 2,
   "metadata": {},
   "outputs": [],
   "source": [
    "# Carregando o arquivo\n",
    "df = pd.read_csv('2004-2019.tsv', sep='\\t', header=0, index_col='Unnamed: 0', encoding='utf8')"
   ]
  },
  {
   "cell_type": "markdown",
   "metadata": {},
   "source": [
    "## Análise Exploratória\n",
    "Vamos começar explorando e entendendo melhor o nosso dataset. O método head() é sempre uma boa opcão inicial para isso, já que permite uma análise visual da tabela."
   ]
  },
  {
   "cell_type": "code",
   "execution_count": 3,
   "metadata": {},
   "outputs": [
    {
     "data": {
      "text/html": [
       "<div>\n",
       "<style scoped>\n",
       "    .dataframe tbody tr th:only-of-type {\n",
       "        vertical-align: middle;\n",
       "    }\n",
       "\n",
       "    .dataframe tbody tr th {\n",
       "        vertical-align: top;\n",
       "    }\n",
       "\n",
       "    .dataframe thead th {\n",
       "        text-align: right;\n",
       "    }\n",
       "</style>\n",
       "<table border=\"1\" class=\"dataframe\">\n",
       "  <thead>\n",
       "    <tr style=\"text-align: right;\">\n",
       "      <th></th>\n",
       "      <th>DATA INICIAL</th>\n",
       "      <th>DATA FINAL</th>\n",
       "      <th>REGIÃO</th>\n",
       "      <th>ESTADO</th>\n",
       "      <th>PRODUTO</th>\n",
       "      <th>NÚMERO DE POSTOS PESQUISADOS</th>\n",
       "      <th>UNIDADE DE MEDIDA</th>\n",
       "      <th>PREÇO MÉDIO REVENDA</th>\n",
       "      <th>DESVIO PADRÃO REVENDA</th>\n",
       "      <th>PREÇO MÍNIMO REVENDA</th>\n",
       "      <th>PREÇO MÁXIMO REVENDA</th>\n",
       "      <th>MARGEM MÉDIA REVENDA</th>\n",
       "      <th>COEF DE VARIAÇÃO REVENDA</th>\n",
       "      <th>PREÇO MÉDIO DISTRIBUIÇÃO</th>\n",
       "      <th>DESVIO PADRÃO DISTRIBUIÇÃO</th>\n",
       "      <th>PREÇO MÍNIMO DISTRIBUIÇÃO</th>\n",
       "      <th>PREÇO MÁXIMO DISTRIBUIÇÃO</th>\n",
       "      <th>COEF DE VARIAÇÃO DISTRIBUIÇÃO</th>\n",
       "      <th>MÊS</th>\n",
       "      <th>ANO</th>\n",
       "    </tr>\n",
       "  </thead>\n",
       "  <tbody>\n",
       "    <tr>\n",
       "      <th>0</th>\n",
       "      <td>2004-05-09</td>\n",
       "      <td>2004-05-15</td>\n",
       "      <td>CENTRO OESTE</td>\n",
       "      <td>DISTRITO FEDERAL</td>\n",
       "      <td>ETANOL HIDRATADO</td>\n",
       "      <td>127</td>\n",
       "      <td>R$/l</td>\n",
       "      <td>1.288</td>\n",
       "      <td>0.016</td>\n",
       "      <td>1.19</td>\n",
       "      <td>1.350</td>\n",
       "      <td>0.463</td>\n",
       "      <td>0.012</td>\n",
       "      <td>0.825</td>\n",
       "      <td>0.11</td>\n",
       "      <td>0.4201</td>\n",
       "      <td>0.9666</td>\n",
       "      <td>0.133</td>\n",
       "      <td>5</td>\n",
       "      <td>2004</td>\n",
       "    </tr>\n",
       "    <tr>\n",
       "      <th>1</th>\n",
       "      <td>2004-05-09</td>\n",
       "      <td>2004-05-15</td>\n",
       "      <td>CENTRO OESTE</td>\n",
       "      <td>GOIAS</td>\n",
       "      <td>ETANOL HIDRATADO</td>\n",
       "      <td>387</td>\n",
       "      <td>R$/l</td>\n",
       "      <td>1.162</td>\n",
       "      <td>0.114</td>\n",
       "      <td>0.89</td>\n",
       "      <td>1.449</td>\n",
       "      <td>0.399</td>\n",
       "      <td>0.098</td>\n",
       "      <td>0.763</td>\n",
       "      <td>0.088</td>\n",
       "      <td>0.5013</td>\n",
       "      <td>1.05</td>\n",
       "      <td>0.115</td>\n",
       "      <td>5</td>\n",
       "      <td>2004</td>\n",
       "    </tr>\n",
       "    <tr>\n",
       "      <th>2</th>\n",
       "      <td>2004-05-09</td>\n",
       "      <td>2004-05-15</td>\n",
       "      <td>CENTRO OESTE</td>\n",
       "      <td>MATO GROSSO</td>\n",
       "      <td>ETANOL HIDRATADO</td>\n",
       "      <td>192</td>\n",
       "      <td>R$/l</td>\n",
       "      <td>1.389</td>\n",
       "      <td>0.097</td>\n",
       "      <td>1.18</td>\n",
       "      <td>1.760</td>\n",
       "      <td>0.419</td>\n",
       "      <td>0.070</td>\n",
       "      <td>0.97</td>\n",
       "      <td>0.095</td>\n",
       "      <td>0.5614</td>\n",
       "      <td>1.161</td>\n",
       "      <td>0.098</td>\n",
       "      <td>5</td>\n",
       "      <td>2004</td>\n",
       "    </tr>\n",
       "    <tr>\n",
       "      <th>3</th>\n",
       "      <td>2004-05-09</td>\n",
       "      <td>2004-05-15</td>\n",
       "      <td>CENTRO OESTE</td>\n",
       "      <td>MATO GROSSO DO SUL</td>\n",
       "      <td>ETANOL HIDRATADO</td>\n",
       "      <td>162</td>\n",
       "      <td>R$/l</td>\n",
       "      <td>1.262</td>\n",
       "      <td>0.070</td>\n",
       "      <td>1.09</td>\n",
       "      <td>1.509</td>\n",
       "      <td>0.432</td>\n",
       "      <td>0.055</td>\n",
       "      <td>0.83</td>\n",
       "      <td>0.119</td>\n",
       "      <td>0.5991</td>\n",
       "      <td>1.22242</td>\n",
       "      <td>0.143</td>\n",
       "      <td>5</td>\n",
       "      <td>2004</td>\n",
       "    </tr>\n",
       "    <tr>\n",
       "      <th>4</th>\n",
       "      <td>2004-05-09</td>\n",
       "      <td>2004-05-15</td>\n",
       "      <td>NORDESTE</td>\n",
       "      <td>ALAGOAS</td>\n",
       "      <td>ETANOL HIDRATADO</td>\n",
       "      <td>103</td>\n",
       "      <td>R$/l</td>\n",
       "      <td>1.181</td>\n",
       "      <td>0.078</td>\n",
       "      <td>1.05</td>\n",
       "      <td>1.400</td>\n",
       "      <td>0.24</td>\n",
       "      <td>0.066</td>\n",
       "      <td>0.941</td>\n",
       "      <td>0.077</td>\n",
       "      <td>0.7441</td>\n",
       "      <td>1.0317</td>\n",
       "      <td>0.082</td>\n",
       "      <td>5</td>\n",
       "      <td>2004</td>\n",
       "    </tr>\n",
       "  </tbody>\n",
       "</table>\n",
       "</div>"
      ],
      "text/plain": [
       "  DATA INICIAL  DATA FINAL        REGIÃO              ESTADO  \\\n",
       "0   2004-05-09  2004-05-15  CENTRO OESTE    DISTRITO FEDERAL   \n",
       "1   2004-05-09  2004-05-15  CENTRO OESTE               GOIAS   \n",
       "2   2004-05-09  2004-05-15  CENTRO OESTE         MATO GROSSO   \n",
       "3   2004-05-09  2004-05-15  CENTRO OESTE  MATO GROSSO DO SUL   \n",
       "4   2004-05-09  2004-05-15      NORDESTE             ALAGOAS   \n",
       "\n",
       "            PRODUTO  NÚMERO DE POSTOS PESQUISADOS UNIDADE DE MEDIDA  \\\n",
       "0  ETANOL HIDRATADO                           127              R$/l   \n",
       "1  ETANOL HIDRATADO                           387              R$/l   \n",
       "2  ETANOL HIDRATADO                           192              R$/l   \n",
       "3  ETANOL HIDRATADO                           162              R$/l   \n",
       "4  ETANOL HIDRATADO                           103              R$/l   \n",
       "\n",
       "   PREÇO MÉDIO REVENDA  DESVIO PADRÃO REVENDA  PREÇO MÍNIMO REVENDA  \\\n",
       "0                1.288                  0.016                  1.19   \n",
       "1                1.162                  0.114                  0.89   \n",
       "2                1.389                  0.097                  1.18   \n",
       "3                1.262                  0.070                  1.09   \n",
       "4                1.181                  0.078                  1.05   \n",
       "\n",
       "   PREÇO MÁXIMO REVENDA MARGEM MÉDIA REVENDA  COEF DE VARIAÇÃO REVENDA  \\\n",
       "0                 1.350                0.463                     0.012   \n",
       "1                 1.449                0.399                     0.098   \n",
       "2                 1.760                0.419                     0.070   \n",
       "3                 1.509                0.432                     0.055   \n",
       "4                 1.400                 0.24                     0.066   \n",
       "\n",
       "  PREÇO MÉDIO DISTRIBUIÇÃO DESVIO PADRÃO DISTRIBUIÇÃO  \\\n",
       "0                    0.825                       0.11   \n",
       "1                    0.763                      0.088   \n",
       "2                     0.97                      0.095   \n",
       "3                     0.83                      0.119   \n",
       "4                    0.941                      0.077   \n",
       "\n",
       "  PREÇO MÍNIMO DISTRIBUIÇÃO PREÇO MÁXIMO DISTRIBUIÇÃO  \\\n",
       "0                    0.4201                    0.9666   \n",
       "1                    0.5013                      1.05   \n",
       "2                    0.5614                     1.161   \n",
       "3                    0.5991                   1.22242   \n",
       "4                    0.7441                    1.0317   \n",
       "\n",
       "  COEF DE VARIAÇÃO DISTRIBUIÇÃO  MÊS   ANO  \n",
       "0                         0.133    5  2004  \n",
       "1                         0.115    5  2004  \n",
       "2                         0.098    5  2004  \n",
       "3                         0.143    5  2004  \n",
       "4                         0.082    5  2004  "
      ]
     },
     "execution_count": 3,
     "metadata": {},
     "output_type": "execute_result"
    }
   ],
   "source": [
    "df.head()"
   ]
  },
  {
   "cell_type": "markdown",
   "metadata": {},
   "source": [
    "### Describe()\n",
    "É muito eficiente para entender as métricas do seu data set. Repare que ele traz informações apenas para os seus valores de variáveis numéricas. O ponto importante aqui é que, como vimos no head, as colunas de preço de distribuição deveriam ser métricas, mas não foram computadas aqui, é um sinal que os tipos das variáveis estão inconsistentes. Entretanto, como vamos trabalhar com os valores médios de revenda, não vamos nos preocupar nesse momento em alterar os dtypes dessas colunas."
   ]
  },
  {
   "cell_type": "code",
   "execution_count": 4,
   "metadata": {},
   "outputs": [
    {
     "data": {
      "text/html": [
       "<div>\n",
       "<style scoped>\n",
       "    .dataframe tbody tr th:only-of-type {\n",
       "        vertical-align: middle;\n",
       "    }\n",
       "\n",
       "    .dataframe tbody tr th {\n",
       "        vertical-align: top;\n",
       "    }\n",
       "\n",
       "    .dataframe thead th {\n",
       "        text-align: right;\n",
       "    }\n",
       "</style>\n",
       "<table border=\"1\" class=\"dataframe\">\n",
       "  <thead>\n",
       "    <tr style=\"text-align: right;\">\n",
       "      <th></th>\n",
       "      <th>NÚMERO DE POSTOS PESQUISADOS</th>\n",
       "      <th>PREÇO MÉDIO REVENDA</th>\n",
       "      <th>DESVIO PADRÃO REVENDA</th>\n",
       "      <th>PREÇO MÍNIMO REVENDA</th>\n",
       "      <th>PREÇO MÁXIMO REVENDA</th>\n",
       "      <th>COEF DE VARIAÇÃO REVENDA</th>\n",
       "      <th>MÊS</th>\n",
       "      <th>ANO</th>\n",
       "    </tr>\n",
       "  </thead>\n",
       "  <tbody>\n",
       "    <tr>\n",
       "      <th>count</th>\n",
       "      <td>106823.000000</td>\n",
       "      <td>106823.000000</td>\n",
       "      <td>106823.000000</td>\n",
       "      <td>106823.000000</td>\n",
       "      <td>106823.000000</td>\n",
       "      <td>106823.000000</td>\n",
       "      <td>106823.000000</td>\n",
       "      <td>106823.000000</td>\n",
       "    </tr>\n",
       "    <tr>\n",
       "      <th>mean</th>\n",
       "      <td>233.770976</td>\n",
       "      <td>10.870780</td>\n",
       "      <td>0.657227</td>\n",
       "      <td>9.416038</td>\n",
       "      <td>12.537731</td>\n",
       "      <td>0.045418</td>\n",
       "      <td>6.484006</td>\n",
       "      <td>2011.802271</td>\n",
       "    </tr>\n",
       "    <tr>\n",
       "      <th>std</th>\n",
       "      <td>403.282519</td>\n",
       "      <td>17.752533</td>\n",
       "      <td>1.349169</td>\n",
       "      <td>15.092193</td>\n",
       "      <td>20.841497</td>\n",
       "      <td>0.025066</td>\n",
       "      <td>3.443391</td>\n",
       "      <td>4.391530</td>\n",
       "    </tr>\n",
       "    <tr>\n",
       "      <th>min</th>\n",
       "      <td>1.000000</td>\n",
       "      <td>0.766000</td>\n",
       "      <td>0.000000</td>\n",
       "      <td>0.590000</td>\n",
       "      <td>0.999000</td>\n",
       "      <td>0.000000</td>\n",
       "      <td>1.000000</td>\n",
       "      <td>2004.000000</td>\n",
       "    </tr>\n",
       "    <tr>\n",
       "      <th>25%</th>\n",
       "      <td>42.000000</td>\n",
       "      <td>2.072000</td>\n",
       "      <td>0.072000</td>\n",
       "      <td>1.900000</td>\n",
       "      <td>2.310000</td>\n",
       "      <td>0.029000</td>\n",
       "      <td>4.000000</td>\n",
       "      <td>2008.000000</td>\n",
       "    </tr>\n",
       "    <tr>\n",
       "      <th>50%</th>\n",
       "      <td>104.000000</td>\n",
       "      <td>2.718000</td>\n",
       "      <td>0.114000</td>\n",
       "      <td>2.510000</td>\n",
       "      <td>2.999000</td>\n",
       "      <td>0.041000</td>\n",
       "      <td>6.000000</td>\n",
       "      <td>2012.000000</td>\n",
       "    </tr>\n",
       "    <tr>\n",
       "      <th>75%</th>\n",
       "      <td>243.000000</td>\n",
       "      <td>3.752000</td>\n",
       "      <td>0.191000</td>\n",
       "      <td>3.499000</td>\n",
       "      <td>4.150000</td>\n",
       "      <td>0.058000</td>\n",
       "      <td>9.000000</td>\n",
       "      <td>2016.000000</td>\n",
       "    </tr>\n",
       "    <tr>\n",
       "      <th>max</th>\n",
       "      <td>4167.000000</td>\n",
       "      <td>99.357000</td>\n",
       "      <td>10.748000</td>\n",
       "      <td>90.000000</td>\n",
       "      <td>120.000000</td>\n",
       "      <td>0.395000</td>\n",
       "      <td>12.000000</td>\n",
       "      <td>2019.000000</td>\n",
       "    </tr>\n",
       "  </tbody>\n",
       "</table>\n",
       "</div>"
      ],
      "text/plain": [
       "       NÚMERO DE POSTOS PESQUISADOS  PREÇO MÉDIO REVENDA  \\\n",
       "count                 106823.000000        106823.000000   \n",
       "mean                     233.770976            10.870780   \n",
       "std                      403.282519            17.752533   \n",
       "min                        1.000000             0.766000   \n",
       "25%                       42.000000             2.072000   \n",
       "50%                      104.000000             2.718000   \n",
       "75%                      243.000000             3.752000   \n",
       "max                     4167.000000            99.357000   \n",
       "\n",
       "       DESVIO PADRÃO REVENDA  PREÇO MÍNIMO REVENDA  PREÇO MÁXIMO REVENDA  \\\n",
       "count          106823.000000         106823.000000         106823.000000   \n",
       "mean                0.657227              9.416038             12.537731   \n",
       "std                 1.349169             15.092193             20.841497   \n",
       "min                 0.000000              0.590000              0.999000   \n",
       "25%                 0.072000              1.900000              2.310000   \n",
       "50%                 0.114000              2.510000              2.999000   \n",
       "75%                 0.191000              3.499000              4.150000   \n",
       "max                10.748000             90.000000            120.000000   \n",
       "\n",
       "       COEF DE VARIAÇÃO REVENDA            MÊS            ANO  \n",
       "count             106823.000000  106823.000000  106823.000000  \n",
       "mean                   0.045418       6.484006    2011.802271  \n",
       "std                    0.025066       3.443391       4.391530  \n",
       "min                    0.000000       1.000000    2004.000000  \n",
       "25%                    0.029000       4.000000    2008.000000  \n",
       "50%                    0.041000       6.000000    2012.000000  \n",
       "75%                    0.058000       9.000000    2016.000000  \n",
       "max                    0.395000      12.000000    2019.000000  "
      ]
     },
     "execution_count": 4,
     "metadata": {},
     "output_type": "execute_result"
    }
   ],
   "source": [
    "df.describe()"
   ]
  },
  {
   "cell_type": "markdown",
   "metadata": {},
   "source": [
    "## Podemos confirmar isso através da chamada do info()"
   ]
  },
  {
   "cell_type": "code",
   "execution_count": 5,
   "metadata": {},
   "outputs": [
    {
     "name": "stdout",
     "output_type": "stream",
     "text": [
      "<class 'pandas.core.frame.DataFrame'>\n",
      "Int64Index: 106823 entries, 0 to 106822\n",
      "Data columns (total 20 columns):\n",
      " #   Column                         Non-Null Count   Dtype  \n",
      "---  ------                         --------------   -----  \n",
      " 0   DATA INICIAL                   106823 non-null  object \n",
      " 1   DATA FINAL                     106823 non-null  object \n",
      " 2   REGIÃO                         106823 non-null  object \n",
      " 3   ESTADO                         106823 non-null  object \n",
      " 4   PRODUTO                        106823 non-null  object \n",
      " 5   NÚMERO DE POSTOS PESQUISADOS   106823 non-null  int64  \n",
      " 6   UNIDADE DE MEDIDA              106823 non-null  object \n",
      " 7   PREÇO MÉDIO REVENDA            106823 non-null  float64\n",
      " 8   DESVIO PADRÃO REVENDA          106823 non-null  float64\n",
      " 9   PREÇO MÍNIMO REVENDA           106823 non-null  float64\n",
      " 10  PREÇO MÁXIMO REVENDA           106823 non-null  float64\n",
      " 11  MARGEM MÉDIA REVENDA           106823 non-null  object \n",
      " 12  COEF DE VARIAÇÃO REVENDA       106823 non-null  float64\n",
      " 13  PREÇO MÉDIO DISTRIBUIÇÃO       106823 non-null  object \n",
      " 14  DESVIO PADRÃO DISTRIBUIÇÃO     106823 non-null  object \n",
      " 15  PREÇO MÍNIMO DISTRIBUIÇÃO      106823 non-null  object \n",
      " 16  PREÇO MÁXIMO DISTRIBUIÇÃO      106823 non-null  object \n",
      " 17  COEF DE VARIAÇÃO DISTRIBUIÇÃO  106823 non-null  object \n",
      " 18  MÊS                            106823 non-null  int64  \n",
      " 19  ANO                            106823 non-null  int64  \n",
      "dtypes: float64(5), int64(3), object(12)\n",
      "memory usage: 17.1+ MB\n"
     ]
    }
   ],
   "source": [
    "df.info()"
   ]
  },
  {
   "cell_type": "markdown",
   "metadata": {},
   "source": [
    "Aqui vemos que as colunas de preço médio estão como string e nossas coluans de data também. Faremos a transformação apenas das colunas de data já que trabalharemos com o preço de revenda e nao o preço de distribuição.\n",
    "\n",
    "Também observe que como temos 106.823 entradas e 106.823 non-null values em todas as colunas, significa que não temos  nulls nas colunas da base, então não precisaremos tratar para esse caso."
   ]
  },
  {
   "cell_type": "code",
   "execution_count": 6,
   "metadata": {},
   "outputs": [],
   "source": [
    "# Transformando as datas para datetime.\n",
    "\n",
    "df['DATA INICIAL'] = df['DATA INICIAL'].astype('datetime64[ns]')\n",
    "df['DATA FINAL'] = df['DATA FINAL'].astype('datetime64[ns]')"
   ]
  },
  {
   "cell_type": "code",
   "execution_count": 7,
   "metadata": {},
   "outputs": [
    {
     "data": {
      "text/plain": [
       "DATA INICIAL                     datetime64[ns]\n",
       "DATA FINAL                       datetime64[ns]\n",
       "REGIÃO                                   object\n",
       "ESTADO                                   object\n",
       "PRODUTO                                  object\n",
       "NÚMERO DE POSTOS PESQUISADOS              int64\n",
       "UNIDADE DE MEDIDA                        object\n",
       "PREÇO MÉDIO REVENDA                     float64\n",
       "DESVIO PADRÃO REVENDA                   float64\n",
       "PREÇO MÍNIMO REVENDA                    float64\n",
       "PREÇO MÁXIMO REVENDA                    float64\n",
       "MARGEM MÉDIA REVENDA                     object\n",
       "COEF DE VARIAÇÃO REVENDA                float64\n",
       "PREÇO MÉDIO DISTRIBUIÇÃO                 object\n",
       "DESVIO PADRÃO DISTRIBUIÇÃO               object\n",
       "PREÇO MÍNIMO DISTRIBUIÇÃO                object\n",
       "PREÇO MÁXIMO DISTRIBUIÇÃO                object\n",
       "COEF DE VARIAÇÃO DISTRIBUIÇÃO            object\n",
       "MÊS                                       int64\n",
       "ANO                                       int64\n",
       "dtype: object"
      ]
     },
     "execution_count": 7,
     "metadata": {},
     "output_type": "execute_result"
    }
   ],
   "source": [
    "df.dtypes"
   ]
  },
  {
   "cell_type": "markdown",
   "metadata": {},
   "source": [
    "### Vamos preparar o nosso dataset para o contexto de prever o preço médio de revenda dos produtos para o paraná."
   ]
  },
  {
   "cell_type": "markdown",
   "metadata": {},
   "source": [
    "Vamos filtrar o df apenas para o estado do Paraná e criar o df_pr."
   ]
  },
  {
   "cell_type": "code",
   "execution_count": 8,
   "metadata": {},
   "outputs": [],
   "source": [
    "df_pr = df[df[\"ESTADO\"] == 'PARANA']"
   ]
  },
  {
   "cell_type": "markdown",
   "metadata": {},
   "source": [
    "Depois, vamos entender quais são os produtos que teremos disponíves para analisar no estado do Paraná."
   ]
  },
  {
   "cell_type": "code",
   "execution_count": 9,
   "metadata": {
    "scrolled": true
   },
   "outputs": [
    {
     "data": {
      "text/plain": [
       "GASOLINA COMUM      785\n",
       "ETANOL HIDRATADO    785\n",
       "GLP                 785\n",
       "ÓLEO DIESEL         785\n",
       "GNV                 773\n",
       "ÓLEO DIESEL S10     338\n",
       "Name: PRODUTO, dtype: int64"
      ]
     },
     "execution_count": 9,
     "metadata": {},
     "output_type": "execute_result"
    }
   ],
   "source": [
    "df_pr.PRODUTO.value_counts()"
   ]
  },
  {
   "cell_type": "markdown",
   "metadata": {},
   "source": [
    "Para o propósito do nosso forecasting, vamos escolher a GASOLINA COMUM para trabalhar"
   ]
  },
  {
   "cell_type": "code",
   "execution_count": 10,
   "metadata": {},
   "outputs": [],
   "source": [
    "# Filtrando os produtos apenas para gasolina comum.\n",
    "df_pr_gasolina = df_pr[df_pr[\"PRODUTO\"] == 'GASOLINA COMUM']"
   ]
  },
  {
   "cell_type": "code",
   "execution_count": 11,
   "metadata": {},
   "outputs": [
    {
     "data": {
      "text/html": [
       "<div>\n",
       "<style scoped>\n",
       "    .dataframe tbody tr th:only-of-type {\n",
       "        vertical-align: middle;\n",
       "    }\n",
       "\n",
       "    .dataframe tbody tr th {\n",
       "        vertical-align: top;\n",
       "    }\n",
       "\n",
       "    .dataframe thead th {\n",
       "        text-align: right;\n",
       "    }\n",
       "</style>\n",
       "<table border=\"1\" class=\"dataframe\">\n",
       "  <thead>\n",
       "    <tr style=\"text-align: right;\">\n",
       "      <th></th>\n",
       "      <th>DATA INICIAL</th>\n",
       "      <th>DATA FINAL</th>\n",
       "      <th>REGIÃO</th>\n",
       "      <th>ESTADO</th>\n",
       "      <th>PRODUTO</th>\n",
       "      <th>NÚMERO DE POSTOS PESQUISADOS</th>\n",
       "      <th>UNIDADE DE MEDIDA</th>\n",
       "      <th>PREÇO MÉDIO REVENDA</th>\n",
       "      <th>DESVIO PADRÃO REVENDA</th>\n",
       "      <th>PREÇO MÍNIMO REVENDA</th>\n",
       "      <th>PREÇO MÁXIMO REVENDA</th>\n",
       "      <th>MARGEM MÉDIA REVENDA</th>\n",
       "      <th>COEF DE VARIAÇÃO REVENDA</th>\n",
       "      <th>PREÇO MÉDIO DISTRIBUIÇÃO</th>\n",
       "      <th>DESVIO PADRÃO DISTRIBUIÇÃO</th>\n",
       "      <th>PREÇO MÍNIMO DISTRIBUIÇÃO</th>\n",
       "      <th>PREÇO MÁXIMO DISTRIBUIÇÃO</th>\n",
       "      <th>COEF DE VARIAÇÃO DISTRIBUIÇÃO</th>\n",
       "      <th>MÊS</th>\n",
       "      <th>ANO</th>\n",
       "    </tr>\n",
       "  </thead>\n",
       "  <tbody>\n",
       "    <tr>\n",
       "      <th>12088</th>\n",
       "      <td>2004-05-09</td>\n",
       "      <td>2004-05-15</td>\n",
       "      <td>SUL</td>\n",
       "      <td>PARANA</td>\n",
       "      <td>GASOLINA COMUM</td>\n",
       "      <td>767</td>\n",
       "      <td>R$/l</td>\n",
       "      <td>1.966</td>\n",
       "      <td>0.074</td>\n",
       "      <td>1.791</td>\n",
       "      <td>2.50</td>\n",
       "      <td>0.238</td>\n",
       "      <td>0.038</td>\n",
       "      <td>1.728</td>\n",
       "      <td>0.04</td>\n",
       "      <td>1.5101</td>\n",
       "      <td>1.9589</td>\n",
       "      <td>0.023</td>\n",
       "      <td>5</td>\n",
       "      <td>2004</td>\n",
       "    </tr>\n",
       "    <tr>\n",
       "      <th>12115</th>\n",
       "      <td>2004-05-16</td>\n",
       "      <td>2004-05-22</td>\n",
       "      <td>SUL</td>\n",
       "      <td>PARANA</td>\n",
       "      <td>GASOLINA COMUM</td>\n",
       "      <td>773</td>\n",
       "      <td>R$/l</td>\n",
       "      <td>1.961</td>\n",
       "      <td>0.079</td>\n",
       "      <td>1.749</td>\n",
       "      <td>2.50</td>\n",
       "      <td>0.232</td>\n",
       "      <td>0.040</td>\n",
       "      <td>1.729</td>\n",
       "      <td>0.041</td>\n",
       "      <td>1.565</td>\n",
       "      <td>2.0075</td>\n",
       "      <td>0.024</td>\n",
       "      <td>5</td>\n",
       "      <td>2004</td>\n",
       "    </tr>\n",
       "    <tr>\n",
       "      <th>12142</th>\n",
       "      <td>2004-05-23</td>\n",
       "      <td>2004-05-29</td>\n",
       "      <td>SUL</td>\n",
       "      <td>PARANA</td>\n",
       "      <td>GASOLINA COMUM</td>\n",
       "      <td>775</td>\n",
       "      <td>R$/l</td>\n",
       "      <td>1.963</td>\n",
       "      <td>0.090</td>\n",
       "      <td>1.720</td>\n",
       "      <td>2.50</td>\n",
       "      <td>0.227</td>\n",
       "      <td>0.046</td>\n",
       "      <td>1.736</td>\n",
       "      <td>0.041</td>\n",
       "      <td>1.5127</td>\n",
       "      <td>1.94</td>\n",
       "      <td>0.024</td>\n",
       "      <td>5</td>\n",
       "      <td>2004</td>\n",
       "    </tr>\n",
       "    <tr>\n",
       "      <th>12169</th>\n",
       "      <td>2004-05-30</td>\n",
       "      <td>2004-06-05</td>\n",
       "      <td>SUL</td>\n",
       "      <td>PARANA</td>\n",
       "      <td>GASOLINA COMUM</td>\n",
       "      <td>771</td>\n",
       "      <td>R$/l</td>\n",
       "      <td>1.993</td>\n",
       "      <td>0.061</td>\n",
       "      <td>1.780</td>\n",
       "      <td>2.45</td>\n",
       "      <td>0.246</td>\n",
       "      <td>0.031</td>\n",
       "      <td>1.747</td>\n",
       "      <td>0.046</td>\n",
       "      <td>1.65</td>\n",
       "      <td>1.998</td>\n",
       "      <td>0.026</td>\n",
       "      <td>5</td>\n",
       "      <td>2004</td>\n",
       "    </tr>\n",
       "    <tr>\n",
       "      <th>12196</th>\n",
       "      <td>2004-06-06</td>\n",
       "      <td>2004-06-12</td>\n",
       "      <td>SUL</td>\n",
       "      <td>PARANA</td>\n",
       "      <td>GASOLINA COMUM</td>\n",
       "      <td>752</td>\n",
       "      <td>R$/l</td>\n",
       "      <td>2.001</td>\n",
       "      <td>0.073</td>\n",
       "      <td>1.799</td>\n",
       "      <td>2.50</td>\n",
       "      <td>0.243</td>\n",
       "      <td>0.036</td>\n",
       "      <td>1.758</td>\n",
       "      <td>0.041</td>\n",
       "      <td>1.646</td>\n",
       "      <td>1.979</td>\n",
       "      <td>0.023</td>\n",
       "      <td>6</td>\n",
       "      <td>2004</td>\n",
       "    </tr>\n",
       "  </tbody>\n",
       "</table>\n",
       "</div>"
      ],
      "text/plain": [
       "      DATA INICIAL DATA FINAL REGIÃO  ESTADO         PRODUTO  \\\n",
       "12088   2004-05-09 2004-05-15    SUL  PARANA  GASOLINA COMUM   \n",
       "12115   2004-05-16 2004-05-22    SUL  PARANA  GASOLINA COMUM   \n",
       "12142   2004-05-23 2004-05-29    SUL  PARANA  GASOLINA COMUM   \n",
       "12169   2004-05-30 2004-06-05    SUL  PARANA  GASOLINA COMUM   \n",
       "12196   2004-06-06 2004-06-12    SUL  PARANA  GASOLINA COMUM   \n",
       "\n",
       "       NÚMERO DE POSTOS PESQUISADOS UNIDADE DE MEDIDA  PREÇO MÉDIO REVENDA  \\\n",
       "12088                           767              R$/l                1.966   \n",
       "12115                           773              R$/l                1.961   \n",
       "12142                           775              R$/l                1.963   \n",
       "12169                           771              R$/l                1.993   \n",
       "12196                           752              R$/l                2.001   \n",
       "\n",
       "       DESVIO PADRÃO REVENDA  PREÇO MÍNIMO REVENDA  PREÇO MÁXIMO REVENDA  \\\n",
       "12088                  0.074                 1.791                  2.50   \n",
       "12115                  0.079                 1.749                  2.50   \n",
       "12142                  0.090                 1.720                  2.50   \n",
       "12169                  0.061                 1.780                  2.45   \n",
       "12196                  0.073                 1.799                  2.50   \n",
       "\n",
       "      MARGEM MÉDIA REVENDA  COEF DE VARIAÇÃO REVENDA PREÇO MÉDIO DISTRIBUIÇÃO  \\\n",
       "12088                0.238                     0.038                    1.728   \n",
       "12115                0.232                     0.040                    1.729   \n",
       "12142                0.227                     0.046                    1.736   \n",
       "12169                0.246                     0.031                    1.747   \n",
       "12196                0.243                     0.036                    1.758   \n",
       "\n",
       "      DESVIO PADRÃO DISTRIBUIÇÃO PREÇO MÍNIMO DISTRIBUIÇÃO  \\\n",
       "12088                       0.04                    1.5101   \n",
       "12115                      0.041                     1.565   \n",
       "12142                      0.041                    1.5127   \n",
       "12169                      0.046                      1.65   \n",
       "12196                      0.041                     1.646   \n",
       "\n",
       "      PREÇO MÁXIMO DISTRIBUIÇÃO COEF DE VARIAÇÃO DISTRIBUIÇÃO  MÊS   ANO  \n",
       "12088                    1.9589                         0.023    5  2004  \n",
       "12115                    2.0075                         0.024    5  2004  \n",
       "12142                      1.94                         0.024    5  2004  \n",
       "12169                     1.998                         0.026    5  2004  \n",
       "12196                     1.979                         0.023    6  2004  "
      ]
     },
     "execution_count": 11,
     "metadata": {},
     "output_type": "execute_result"
    }
   ],
   "source": [
    "# Observando o resultado dos nossos filtros.\n",
    "df_pr_gasolina.head()"
   ]
  },
  {
   "cell_type": "code",
   "execution_count": 12,
   "metadata": {},
   "outputs": [
    {
     "data": {
      "text/plain": [
       "(785, 20)"
      ]
     },
     "execution_count": 12,
     "metadata": {},
     "output_type": "execute_result"
    }
   ],
   "source": [
    "# Esse comando é mto importante para termos noção do tamanho do nosso dataset.\n",
    "df_pr_gasolina.shape"
   ]
  },
  {
   "cell_type": "code",
   "execution_count": 13,
   "metadata": {
    "scrolled": true
   },
   "outputs": [
    {
     "data": {
      "text/plain": [
       "Timestamp('2019-06-23 00:00:00')"
      ]
     },
     "execution_count": 13,
     "metadata": {},
     "output_type": "execute_result"
    }
   ],
   "source": [
    "# Aqui vemos que a nossa última data é de junho de 2019.\n",
    "df_pr_gasolina[\"DATA INICIAL\"].max()"
   ]
  },
  {
   "cell_type": "markdown",
   "metadata": {},
   "source": [
    "#### Aqui observamos que nossa granularidade de data é semanal, é importante sabermos dessa informação, principalmente para entendermos a frequência e analisar os resíduos e também o ACF que veremos á frente."
   ]
  },
  {
   "cell_type": "code",
   "execution_count": 14,
   "metadata": {},
   "outputs": [
    {
     "data": {
      "text/plain": [
       "12088    2004-05-09\n",
       "12115    2004-05-16\n",
       "12142    2004-05-23\n",
       "12169    2004-05-30\n",
       "12196    2004-06-06\n",
       "            ...    \n",
       "106171   2019-05-26\n",
       "106320   2019-06-02\n",
       "106470   2019-06-09\n",
       "106620   2019-06-16\n",
       "106769   2019-06-23\n",
       "Name: DATA INICIAL, Length: 785, dtype: datetime64[ns]"
      ]
     },
     "execution_count": 14,
     "metadata": {},
     "output_type": "execute_result"
    }
   ],
   "source": [
    "df_pr_gasolina[\"DATA INICIAL\"]"
   ]
  },
  {
   "cell_type": "markdown",
   "metadata": {},
   "source": [
    "## Vamos supor um problema prático aqui, que poderia ser aplicado num contexto empresarial. \n",
    "\n",
    "Digamos que estamos no primeiro trimestre de 2019 e queremos prever como será o segundo semestre, por uma demanda do seu chefe, etc. (Logo vamos supor que não conhecemos o segundo semestre de 2019, para tornar esse o desafio).\n",
    "\n",
    "## Nesse cenário, precisaremos:\n",
    "1 - Dividir nosso dataset em 3 partes: O de treino, o de teste, e o de validação.\n",
    "    O de treino, como o nome diz, usaremos para dar o fit do nosso modelo e treiná-lo.\n",
    "    O de teste, usaremos para avaliar quão bem o nosso modelo deu fit nos dados, e utilizaremos uma função custo para avaliar e escolher o melhor modelo.\n",
    "    O de validação, que é o nosso desafio aqui, utilizado para encontrar qual seria nossa performance no avanço dos preços no horizonte dos próximos 3 meses.\n",
    "    \n",
    "2 - Depois dos splits da timeseries, aplicaremos alguns modelos nos dados de treino e testaremos eles nos dados de teste.\n",
    "\n",
    "3 - Definiremos uma função de custo, que é um valor numérico que utilizaremos para escolher o melhor modelo com base nele.\n",
    "\n",
    "4 - Iremos fazer uma otimização de hiperparâmetros, utilizando a função gridsearch.\n",
    "\n",
    "5 - Com o modelo otimizado, iremos avaliar ele nos dados de validação, traremos novamente a métrica de erro e iremos observar graficamente o quão bem performamos.\n",
    "\n",
    "Vamos lá!"
   ]
  },
  {
   "cell_type": "markdown",
   "metadata": {},
   "source": [
    "### Mas antes de tudo, vamos avaliar o nosso contexto temporal.\n",
    "Vamos avaliar graficamente como foi o avanço do preço de 2004 até 2020"
   ]
  },
  {
   "cell_type": "code",
   "execution_count": 15,
   "metadata": {},
   "outputs": [
    {
     "data": {
      "text/plain": [
       "<AxesSubplot:xlabel='DATA INICIAL', ylabel='PREÇO MÉDIO REVENDA'>"
      ]
     },
     "execution_count": 15,
     "metadata": {},
     "output_type": "execute_result"
    },
    {
     "data": {
      "image/png": "[encoded data removed]",
      "text/plain": [
       "<Figure size 432x288 with 1 Axes>"
      ]
     },
     "metadata": {
      "needs_background": "light"
     },
     "output_type": "display_data"
    }
   ],
   "source": [
    "sns.lineplot(x='DATA INICIAL',\n",
    "         y='PREÇO MÉDIO REVENDA',\n",
    "        data=df_pr_gasolina)"
   ]
  },
  {
   "cell_type": "markdown",
   "metadata": {},
   "source": [
    "Vimos que os dados são consistentes (não temos buracos na série) e que notamos uma curva em ascenção."
   ]
  },
  {
   "cell_type": "markdown",
   "metadata": {},
   "source": [
    "Agora, para treinarmos nosso modelo, vamos criar um timeseries do darts de teste, e na sequencia setar os split de treino e validação."
   ]
  },
  {
   "cell_type": "markdown",
   "metadata": {},
   "source": [
    "####  Esse 'series' é o objeto principal da biblioteca udarts. Precisamos setar ele para depois criar as séries de treino, teste e validação a partir dele."
   ]
  },
  {
   "cell_type": "code",
   "execution_count": 16,
   "metadata": {},
   "outputs": [],
   "source": [
    "# Criando o objeto series\n",
    "series = auto_fillna((TimeSeries.from_dataframe(df_pr_gasolina, 'DATA INICIAL', 'PREÇO MÉDIO REVENDA')))\n",
    "\n",
    "# Criando as partições de treino, teste, e val.\n",
    "train, teste = series.drop_after(pd.Timestamp('20190301')).split_after(pd.Timestamp('20190101'))\n",
    "\n",
    "val = series.drop_before(pd.Timestamp('20190301'))"
   ]
  },
  {
   "cell_type": "code",
   "execution_count": 17,
   "metadata": {},
   "outputs": [
    {
     "data": {
      "image/png": "[encoded data removed]",
      "text/plain": [
       "<Figure size 864x576 with 1 Axes>"
      ]
     },
     "metadata": {
      "needs_background": "light"
     },
     "output_type": "display_data"
    }
   ],
   "source": [
    "# Aqui podemos avaliar graficamente como ficaram nossas separações.\n",
    "train.plot(figsize = (12, 8))\n",
    "teste.plot()\n",
    "val.plot()"
   ]
  },
  {
   "cell_type": "markdown",
   "metadata": {},
   "source": [
    "Observe que o comportamento antes de 2010 parece muito diferente do que temos nos valores mais recentes.\n",
    "Aqui é uma decisão pessoal, eu vou optar por pegar apenas os dados depois de 2017, mas a ideia é remover do treino essa parte que observamos ser muito diferente dos valores atuais, já que o modelo levará esses dados muito antigos em consideração. Dessa forma, vamos tratar novamente o dado de treino, removendo tudo antes de 2017."
   ]
  },
  {
   "cell_type": "code",
   "execution_count": 18,
   "metadata": {},
   "outputs": [],
   "source": [
    "# Pegando valores apenas de 2017 para frente:\n",
    "train = train.drop_before(pd.Timestamp('20170301'))"
   ]
  },
  {
   "cell_type": "code",
   "execution_count": 19,
   "metadata": {},
   "outputs": [
    {
     "data": {
      "image/png": "[encoded data removed]",
      "text/plain": [
       "<Figure size 864x576 with 1 Axes>"
      ]
     },
     "metadata": {
      "needs_background": "light"
     },
     "output_type": "display_data"
    }
   ],
   "source": [
    "# Avaliando novamente o gráfico\n",
    "train.plot(figsize = (12, 8))\n",
    "teste.plot()\n",
    "val.plot()"
   ]
  },
  {
   "cell_type": "markdown",
   "metadata": {},
   "source": [
    "Agora que temos as séries, vamos chamar alguns modelos e avaliar como eles se comportam nos nossos dados de teste, depois de treiná-los nos dados de teste"
   ]
  },
  {
   "cell_type": "markdown",
   "metadata": {},
   "source": [
    "### Com base na função custo, vamos escolher o modelo que apresenta o menor erro. No nosso caso, o menor MAPE."
   ]
  },
  {
   "cell_type": "code",
   "execution_count": 20,
   "metadata": {
    "scrolled": false
   },
   "outputs": [
    {
     "name": "stdout",
     "output_type": "stream",
     "text": [
      "Auto-ARIMA MAPE: 2.0228816915712735\n",
      "Prophet MAPE: 6.046883589435064\n",
      "Exponential smoothing MAPE: 0.6733601245648227\n",
      "Theta(0) MAPE: 2.6106738667092766\n",
      "FFT(nr_freqs_to_keep=10, trend=None) MAPE: 11.561956028693842\n"
     ]
    }
   ],
   "source": [
    "# Lista de modelos escolhidos para avaliarmos.\n",
    "models = [\n",
    "    AutoARIMA(),\n",
    "    Prophet(),\n",
    "    ExponentialSmoothing(),\n",
    "    Theta(),\n",
    "    FFT()\n",
    "]\n",
    "\n",
    "# Para cada modelo, iremos avaliar a função de custo, nesse caso a função eh a MAPE. (Mean Absolute Percentage Error)\n",
    "\n",
    "for model in models:\n",
    "    \n",
    "    #treinando o modelo.\n",
    "    model.fit(train)\n",
    "    \n",
    "    # criando as previsões.\n",
    "    pred_teste = model.predict(len(teste))\n",
    "    \n",
    "    #printando o resultado e o modelo.\n",
    "    print(str(model) + \" MAPE: \" + str(mape(pred_teste, teste)))"
   ]
  },
  {
   "cell_type": "markdown",
   "metadata": {},
   "source": [
    "O Exponential Smoothing apresentou o menor MAPE e vamos prosseguir com ele. O que faremos na sequência vai ser o processo de otimização dos hiperparâmetros desse modelo."
   ]
  },
  {
   "cell_type": "markdown",
   "metadata": {},
   "source": [
    "Pela própria documentação do u8darts sobre exponential Smoothing, podemos ver que temos os seguintes hiperparâmetros para otimizar:\n",
    "\n",
    "        Parameters\n",
    "        ----------\n",
    "        trend\n",
    "            Type of trend component. Either ModelMode.ADDITIVE or ModelMode.MULTIPLICATIVE.\n",
    "            Defaults to `ModelMode.ADDITIVE`.\n",
    "        damped\n",
    "            Should the trend component be damped. Defaults to False.\n",
    "        seasonal\n",
    "            Type of seasonal component. Either ModelMode.ADDITIVE or ModelMode.MULTIPLICATIVE.\n",
    "            Defaults to `ModelMode.ADDITIVE`.\n",
    "        seasonal_periods\n",
    "            The number of periods in a complete seasonal cycle, e.g., 4 for quarterly data or 7 for daily\n",
    "            data with a weekly cycle.\n",
    "            \n",
    "font: https://github.com/unit8co/darts/blob/master/darts/models/exponential_smoothing.py"
   ]
  },
  {
   "cell_type": "markdown",
   "metadata": {},
   "source": [
    "Vamos inicialmente criar um dict com os parâmetros que iremos avaliar."
   ]
  },
  {
   "cell_type": "code",
   "execution_count": 21,
   "metadata": {},
   "outputs": [],
   "source": [
    "dict_params = {\n",
    "    'seasonal': ['additive', 'multiplicative'],\n",
    "    'damped': [True, False],\n",
    "    'trend': ['additive', 'multiplicative'],\n",
    "    'seasonal_periods': [7, 14, 21, 28]\n",
    "}"
   ]
  },
  {
   "cell_type": "markdown",
   "metadata": {},
   "source": [
    "A biblioteca itertools fará uma iteração e vai criar todas as possibilidades de combinação no dicionário. Isso é importante pois usaremos o dicionário final como parâmetro de otimização do gridsearch."
   ]
  },
  {
   "cell_type": "code",
   "execution_count": 22,
   "metadata": {},
   "outputs": [],
   "source": [
    "import itertools\n",
    "keys, values = zip(*dict_params.items())\n",
    "permutations_dicts = [dict(zip(keys, v)) for v in itertools.product(*values)]"
   ]
  },
  {
   "cell_type": "code",
   "execution_count": 23,
   "metadata": {},
   "outputs": [
    {
     "name": "stdout",
     "output_type": "stream",
     "text": [
      "Exponential smoothing MAPE: 0.48920128315089123\n"
     ]
    }
   ],
   "source": [
    "# Otimizando o Exponential smoothing:\n",
    "model_exp_smo = ExponentialSmoothing(seasonal='additive', damped=False, trend='additive', seasonal_periods=7)\n",
    "model_exp_smo.fit(train)\n",
    "exp_smo_pred = model_exp_smo.predict(len(teste))\n",
    "print(str(model_exp_smo) + \" MAPE: \" + str(mape(exp_smo_pred, teste)))"
   ]
  },
  {
   "cell_type": "code",
   "execution_count": 24,
   "metadata": {
    "scrolled": true
   },
   "outputs": [
    {
     "name": "stdout",
     "output_type": "stream",
     "text": [
      " MAPE: 1.7714158266789677 {'seasonal': 'additive', 'damped': True, 'trend': 'additive', 'seasonal_periods': 7}\n",
      " MAPE: 1.518370632505204 {'seasonal': 'additive', 'damped': True, 'trend': 'additive', 'seasonal_periods': 14}\n",
      " MAPE: 2.5196219820513885 {'seasonal': 'additive', 'damped': True, 'trend': 'additive', 'seasonal_periods': 21}\n",
      " MAPE: 0.9542597017210098 {'seasonal': 'additive', 'damped': True, 'trend': 'additive', 'seasonal_periods': 28}\n",
      " MAPE: 6.069188318540059 {'seasonal': 'additive', 'damped': True, 'trend': 'multiplicative', 'seasonal_periods': 7}\n",
      " MAPE: 5.352853470571773 {'seasonal': 'additive', 'damped': True, 'trend': 'multiplicative', 'seasonal_periods': 14}\n",
      " MAPE: 6.428575230294757 {'seasonal': 'additive', 'damped': True, 'trend': 'multiplicative', 'seasonal_periods': 21}\n",
      " MAPE: 4.962584902861014 {'seasonal': 'additive', 'damped': True, 'trend': 'multiplicative', 'seasonal_periods': 28}\n",
      " MAPE: 0.48920128315089123 {'seasonal': 'additive', 'damped': False, 'trend': 'additive', 'seasonal_periods': 7}\n",
      " MAPE: 1.781866493241059 {'seasonal': 'additive', 'damped': False, 'trend': 'additive', 'seasonal_periods': 14}\n",
      " MAPE: 2.8930829804777742 {'seasonal': 'additive', 'damped': False, 'trend': 'additive', 'seasonal_periods': 21}\n",
      " MAPE: 2.6002590581574427 {'seasonal': 'additive', 'damped': False, 'trend': 'additive', 'seasonal_periods': 28}\n",
      " MAPE: 0.5082907119033417 {'seasonal': 'additive', 'damped': False, 'trend': 'multiplicative', 'seasonal_periods': 7}\n",
      " MAPE: 1.7381511579692672 {'seasonal': 'additive', 'damped': False, 'trend': 'multiplicative', 'seasonal_periods': 14}\n",
      " MAPE: 2.869382008576672 {'seasonal': 'additive', 'damped': False, 'trend': 'multiplicative', 'seasonal_periods': 21}\n",
      " MAPE: 1.3014597568125175 {'seasonal': 'additive', 'damped': False, 'trend': 'multiplicative', 'seasonal_periods': 28}\n",
      " MAPE: 1.7296071448337325 {'seasonal': 'multiplicative', 'damped': True, 'trend': 'additive', 'seasonal_periods': 7}\n",
      " MAPE: 1.5122076675923888 {'seasonal': 'multiplicative', 'damped': True, 'trend': 'additive', 'seasonal_periods': 14}\n",
      " MAPE: 2.7322341403564856 {'seasonal': 'multiplicative', 'damped': True, 'trend': 'additive', 'seasonal_periods': 21}\n",
      " MAPE: 0.9653659649883166 {'seasonal': 'multiplicative', 'damped': True, 'trend': 'additive', 'seasonal_periods': 28}\n",
      " MAPE: 1.7199067098574585 {'seasonal': 'multiplicative', 'damped': True, 'trend': 'multiplicative', 'seasonal_periods': 7}\n",
      " MAPE: 2.958336934281987 {'seasonal': 'multiplicative', 'damped': True, 'trend': 'multiplicative', 'seasonal_periods': 14}\n",
      " MAPE: 4.134572986788623 {'seasonal': 'multiplicative', 'damped': True, 'trend': 'multiplicative', 'seasonal_periods': 21}\n",
      " MAPE: 2.351558629748852 {'seasonal': 'multiplicative', 'damped': True, 'trend': 'multiplicative', 'seasonal_periods': 28}\n",
      " MAPE: 0.4775871073401454 {'seasonal': 'multiplicative', 'damped': False, 'trend': 'additive', 'seasonal_periods': 7}\n",
      " MAPE: 1.7655414113709398 {'seasonal': 'multiplicative', 'damped': False, 'trend': 'additive', 'seasonal_periods': 14}\n",
      " MAPE: 3.089240144464715 {'seasonal': 'multiplicative', 'damped': False, 'trend': 'additive', 'seasonal_periods': 21}\n",
      " MAPE: 1.3212953277187987 {'seasonal': 'multiplicative', 'damped': False, 'trend': 'additive', 'seasonal_periods': 28}\n",
      " MAPE: 0.5994936405885789 {'seasonal': 'multiplicative', 'damped': False, 'trend': 'multiplicative', 'seasonal_periods': 7}\n",
      " MAPE: 1.7191230457724214 {'seasonal': 'multiplicative', 'damped': False, 'trend': 'multiplicative', 'seasonal_periods': 14}\n",
      " MAPE: 3.057743506275172 {'seasonal': 'multiplicative', 'damped': False, 'trend': 'multiplicative', 'seasonal_periods': 21}\n",
      " MAPE: 1.2712189702537289 {'seasonal': 'multiplicative', 'damped': False, 'trend': 'multiplicative', 'seasonal_periods': 28}\n"
     ]
    }
   ],
   "source": [
    "for i in permutations_dicts:\n",
    "    model_exp_smo = ExponentialSmoothing(seasonal=i['seasonal'], damped=i['damped'], trend=i['trend'], seasonal_periods=i['seasonal_periods'])\n",
    "    model_exp_smo.fit(train)\n",
    "    exp_smo_pred = model_exp_smo.predict(len(teste))\n",
    "    print(\" MAPE: \" + str(mape(exp_smo_pred, teste)), str(i))"
   ]
  },
  {
   "cell_type": "markdown",
   "metadata": {},
   "source": [
    "Acima rodamos todas as possibilidades do gridSearch. Fiz dessa forma para que ficasse ilustrados as possibilidades e também os erros, dessa forma, veja que a combinação com o menor MAPE foi a:\n",
    "\n",
    "MAPE: 0.4775871073401454 {'seasonal': 'multiplicative', 'damped': False, 'trend': 'additive', 'seasonal_periods': 7}"
   ]
  },
  {
   "cell_type": "markdown",
   "metadata": {},
   "source": [
    "Sendo assim, vamos chamar nosso modelo novamente, com esses hiperparametros:"
   ]
  },
  {
   "cell_type": "code",
   "execution_count": 25,
   "metadata": {},
   "outputs": [
    {
     "name": "stdout",
     "output_type": "stream",
     "text": [
      "Exponential smoothing MAPE: 0.4775871073401454\n"
     ]
    }
   ],
   "source": [
    "# Otimizando o Exponential smoothing:\n",
    "model_exp_smo = ExponentialSmoothing(seasonal='multiplicative', damped=False, trend='additive', seasonal_periods=7)\n",
    "model_exp_smo.fit(train)\n",
    "exp_smo_pred = model_exp_smo.predict(len(teste))\n",
    "print(str(model_exp_smo) + \" MAPE: \" + str(mape(exp_smo_pred, teste)))"
   ]
  },
  {
   "cell_type": "markdown",
   "metadata": {},
   "source": [
    "### Com nosso modelo otimizado, podemos analisar os nossos resíduos"
   ]
  },
  {
   "cell_type": "code",
   "execution_count": 26,
   "metadata": {},
   "outputs": [
    {
     "data": {
      "text/html": [
       "<div>\n",
       "<style scoped>\n",
       "    .dataframe tbody tr th:only-of-type {\n",
       "        vertical-align: middle;\n",
       "    }\n",
       "\n",
       "    .dataframe tbody tr th {\n",
       "        vertical-align: top;\n",
       "    }\n",
       "\n",
       "    .dataframe thead th {\n",
       "        text-align: right;\n",
       "    }\n",
       "</style>\n",
       "<table border=\"1\" class=\"dataframe\">\n",
       "  <thead>\n",
       "    <tr style=\"text-align: right;\">\n",
       "      <th></th>\n",
       "      <th>real</th>\n",
       "      <th>prediction</th>\n",
       "      <th>residuals</th>\n",
       "    </tr>\n",
       "    <tr>\n",
       "      <th>DATA INICIAL</th>\n",
       "      <th></th>\n",
       "      <th></th>\n",
       "      <th></th>\n",
       "    </tr>\n",
       "  </thead>\n",
       "  <tbody>\n",
       "    <tr>\n",
       "      <th>2019-01-06</th>\n",
       "      <td>4.115</td>\n",
       "      <td>4.100857</td>\n",
       "      <td>0.014143</td>\n",
       "    </tr>\n",
       "    <tr>\n",
       "      <th>2019-01-13</th>\n",
       "      <td>4.093</td>\n",
       "      <td>4.091189</td>\n",
       "      <td>0.001811</td>\n",
       "    </tr>\n",
       "    <tr>\n",
       "      <th>2019-01-20</th>\n",
       "      <td>4.072</td>\n",
       "      <td>4.078258</td>\n",
       "      <td>-0.006258</td>\n",
       "    </tr>\n",
       "    <tr>\n",
       "      <th>2019-01-27</th>\n",
       "      <td>4.046</td>\n",
       "      <td>4.061054</td>\n",
       "      <td>-0.015054</td>\n",
       "    </tr>\n",
       "    <tr>\n",
       "      <th>2019-02-03</th>\n",
       "      <td>4.038</td>\n",
       "      <td>4.037696</td>\n",
       "      <td>0.000304</td>\n",
       "    </tr>\n",
       "    <tr>\n",
       "      <th>2019-02-10</th>\n",
       "      <td>4.009</td>\n",
       "      <td>4.008077</td>\n",
       "      <td>0.000923</td>\n",
       "    </tr>\n",
       "    <tr>\n",
       "      <th>2019-02-17</th>\n",
       "      <td>3.993</td>\n",
       "      <td>3.980520</td>\n",
       "      <td>0.012480</td>\n",
       "    </tr>\n",
       "    <tr>\n",
       "      <th>2019-02-24</th>\n",
       "      <td>4.048</td>\n",
       "      <td>3.946830</td>\n",
       "      <td>0.101170</td>\n",
       "    </tr>\n",
       "  </tbody>\n",
       "</table>\n",
       "</div>"
      ],
      "text/plain": [
       "               real  prediction  residuals\n",
       "DATA INICIAL                              \n",
       "2019-01-06    4.115    4.100857   0.014143\n",
       "2019-01-13    4.093    4.091189   0.001811\n",
       "2019-01-20    4.072    4.078258  -0.006258\n",
       "2019-01-27    4.046    4.061054  -0.015054\n",
       "2019-02-03    4.038    4.037696   0.000304\n",
       "2019-02-10    4.009    4.008077   0.000923\n",
       "2019-02-17    3.993    3.980520   0.012480\n",
       "2019-02-24    4.048    3.946830   0.101170"
      ]
     },
     "execution_count": 26,
     "metadata": {},
     "output_type": "execute_result"
    }
   ],
   "source": [
    "# Iniciando a montagem do df com os dados reais e dados previsto pelo Exponential Smoothing\n",
    "\n",
    "# Começamos chamando os dados de teste\n",
    "df_with_predict = teste.pd_dataframe()\n",
    "\n",
    "# Adicionamos a coluna dos predictions do modelo Exponential Smoothing\n",
    "df_with_predict['prediction'] = exp_smo_pred.pd_dataframe()\n",
    "\n",
    "# Renomeamos as colunas para ficar mais claro\n",
    "df_with_predict.columns = ['real', 'prediction']\n",
    "\n",
    "# Criamos o resíduo, que é a diferença entre o real e o previsto.\n",
    "df_with_predict['residuals'] = df_with_predict.real - df_with_predict.prediction\n",
    "\n",
    "df_with_predict"
   ]
  },
  {
   "cell_type": "markdown",
   "metadata": {},
   "source": [
    "Primeiro vamos avaliar se os resíduos apresentam uma média zero. Ou seja, não temos uma tendência para cima ou para baixo no modelo."
   ]
  },
  {
   "cell_type": "code",
   "execution_count": 27,
   "metadata": {},
   "outputs": [
    {
     "data": {
      "text/plain": [
       "0.013690023014016228"
      ]
     },
     "execution_count": 27,
     "metadata": {},
     "output_type": "execute_result"
    }
   ],
   "source": [
    "# Média Zero?\n",
    "df_with_predict['residuals'].mean()"
   ]
  },
  {
   "cell_type": "code",
   "execution_count": 28,
   "metadata": {},
   "outputs": [
    {
     "data": {
      "text/plain": [
       "<AxesSubplot:ylabel='Frequency'>"
      ]
     },
     "execution_count": 28,
     "metadata": {},
     "output_type": "execute_result"
    },
    {
     "data": {
      "image/png": "[encoded data removed]",
      "text/plain": [
       "<Figure size 432x288 with 1 Axes>"
      ]
     },
     "metadata": {
      "needs_background": "light"
     },
     "output_type": "display_data"
    }
   ],
   "source": [
    "# Distribuição do erro.\n",
    "df_with_predict['residuals'].plot(kind='hist')"
   ]
  },
  {
   "cell_type": "markdown",
   "metadata": {},
   "source": [
    "Veja que nosso erro fica em torno de zero, como esperávamos, com alguns valores positivos e outros negativos. Sendo assim, vamos prosseguir para a etapa de aplicar nosso modelo no real, que chamamos aqui de `val`, e ver como teríamos performado"
   ]
  },
  {
   "cell_type": "code",
   "execution_count": 29,
   "metadata": {},
   "outputs": [],
   "source": [
    "# Recriando as partições de treino e val.\n",
    "train, val = series.split_after(pd.Timestamp('20190301'))\n",
    "\n",
    "train = train.drop_before(pd.Timestamp('20170301'))\n",
    "\n",
    "val = series.drop_before(pd.Timestamp('20190301'))"
   ]
  },
  {
   "cell_type": "code",
   "execution_count": 30,
   "metadata": {},
   "outputs": [
    {
     "data": {
      "text/plain": [
       "<matplotlib.legend.Legend at 0x13de82ca0>"
      ]
     },
     "execution_count": 30,
     "metadata": {},
     "output_type": "execute_result"
    },
    {
     "data": {
      "image/png": "[encoded data removed]",
      "text/plain": [
       "<Figure size 432x288 with 1 Axes>"
      ]
     },
     "metadata": {
      "needs_background": "light"
     },
     "output_type": "display_data"
    }
   ],
   "source": [
    "# Avaliando que o val  e o treino está no período que desejamos\n",
    "val.plot(label='val')\n",
    "train.plot(label='train')\n",
    "plt.legend()"
   ]
  },
  {
   "cell_type": "markdown",
   "metadata": {},
   "source": [
    "Estando tudo correto, vamos fazer nossa previsão final, e ver como teríamos performado:"
   ]
  },
  {
   "cell_type": "code",
   "execution_count": 31,
   "metadata": {},
   "outputs": [
    {
     "name": "stdout",
     "output_type": "stream",
     "text": [
      "Exponential smoothing MAPE: 3.9139790455237558\n"
     ]
    }
   ],
   "source": [
    "# Modelo final:\n",
    "model_exp_smo = ExponentialSmoothing(seasonal='multiplicative', damped=False, trend='additive', seasonal_periods=7)\n",
    "model_exp_smo.fit(train)\n",
    "exp_smo_pred = model_exp_smo.predict(len(val))\n",
    "print(str(model_exp_smo) + \" MAPE: \" + str(mape(exp_smo_pred, val)))"
   ]
  },
  {
   "cell_type": "code",
   "execution_count": 32,
   "metadata": {},
   "outputs": [
    {
     "data": {
      "text/plain": [
       "<matplotlib.legend.Legend at 0x13aed2cd0>"
      ]
     },
     "execution_count": 32,
     "metadata": {},
     "output_type": "execute_result"
    },
    {
     "data": {
      "image/png": "[encoded data removed]",
      "text/plain": [
       "<Figure size 432x288 with 1 Axes>"
      ]
     },
     "metadata": {
      "needs_background": "light"
     },
     "output_type": "display_data"
    }
   ],
   "source": [
    "# Avaliando nosso resultado final:\n",
    "val.plot(label='val')\n",
    "train.plot(label='train')\n",
    "exp_smo_pred.plot(label='predict')\n",
    "plt.legend()"
   ]
  },
  {
   "cell_type": "markdown",
   "metadata": {},
   "source": [
    "Mesmo com um bom desempenho nos dados de teste, ficamos com um gap relevante versus os valores que realmente ocorreram. Essa série era de fato desafiadora, dado o cenário imprevisível que ocorreu na viarada em fevereiro e depois outra queda em maio. Além disso, estávamos prevendo um horizonte grande no futuro."
   ]
  },
  {
   "cell_type": "markdown",
   "metadata": {},
   "source": [
    "De qualquer forma, esse estudo foi como teríamos performado em um horizonte grande de valores bem como toda a lógica da implementação da biblioteca, e também nos mostra como nem sempre a realidade é tão previsível."
   ]
  }
 ],
 "metadata": {
  "kernelspec": {
   "display_name": "Python 3",
   "language": "python",
   "name": "python3"
  },
  "language_info": {
   "codemirror_mode": {
    "name": "ipython",
    "version": 3
   },
   "file_extension": ".py",
   "mimetype": "text/x-python",
   "name": "python",
   "nbconvert_exporter": "python",
   "pygments_lexer": "ipython3",
   "version": "3.9.1"
  }
 },
 "nbformat": 4,
 "nbformat_minor": 4
}
